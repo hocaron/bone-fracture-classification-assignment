{
  "nbformat": 4,
  "nbformat_minor": 0,
  "metadata": {
    "colab": {
      "name": "cnn.ipynb",
      "provenance": [],
      "collapsed_sections": []
    },
    "kernelspec": {
      "name": "python3",
      "display_name": "Python 3"
    },
    "language_info": {
      "name": "python"
    }
  },
  "cells": [
    {
      "cell_type": "code",
      "metadata": {
        "id": "taIPqL4n1uHR"
      },
      "source": [
        "# Build convolutional neural net\n",
        "class Net(nn.Module):\n",
        "    def __init__(self):\n",
        "        super(Net, self).__init__()\n",
        "        self.softmax = nn.LogSoftmax(dim=1)\n",
        "        self.conv = nn.Sequential(\n",
        "            nn.Conv2d(1, 16, 3),\n",
        "            nn.LeakyReLU(),\n",
        "            nn.Conv2d(16, 16, 3),\n",
        "            nn.LeakyReLU(),\n",
        "            nn.MaxPool2d(3,2),\n",
        "            nn.Conv2d(16, 32, 3),\n",
        "            nn.LeakyReLU(),\n",
        "            nn.Conv2d(32, 32, 3),\n",
        "            nn.LeakyReLU(),\n",
        "            nn.MaxPool2d(3,2),\n",
        "            nn.Conv2d(32, 64, 3),\n",
        "            nn.LeakyReLU(),\n",
        "            nn.Conv2d(64, 64, 3),\n",
        "            nn.LeakyReLU(),\n",
        "            nn.MaxPool2d(3,2),\n",
        "            nn.Conv2d(64, 128, 3),\n",
        "            nn.LeakyReLU(),\n",
        "            nn.Conv2d(128, 128, 3),\n",
        "            nn.LeakyReLU(),\n",
        "            nn.MaxPool2d(3,2),\n",
        "            nn.Conv2d(128, 256, 3),\n",
        "            nn.LeakyReLU(),\n",
        "            nn.Conv2d(256, 256, 3),\n",
        "            nn.LeakyReLU(),\n",
        "            nn.MaxPool2d(3,2),\n",
        "            nn.Dropout(p=0.15)\n",
        "        )\n",
        "        \n",
        "        self.fc = nn.Sequential(\n",
        "            nn.Linear(12544,2)\n",
        "        )\n",
        "\n",
        "    def forward(self, x):\n",
        "        x = self.conv(x)\n",
        "        x = x.view(x.size()[0],-1)\n",
        "        x = self.fc(x)\n",
        "        return x\n",
        "\n",
        "\n",
        "device = torch.device(\"cuda\" if torch.cuda.is_available() else \"cpu\") # PyTorch v0.4.0\n",
        "model = Net().to(device)"
      ],
      "execution_count": null,
      "outputs": []
    }
  ]
}